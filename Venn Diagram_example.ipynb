{
 "cells": [
  {
   "cell_type": "code",
   "execution_count": 12,
   "id": "c2bb8f16-bb99-4931-bbbf-a301cdf88fc8",
   "metadata": {},
   "outputs": [],
   "source": [
    "import pandas as pd\n",
    "import numpy as np\n",
    "from matplotlib_venn import venn2\n",
    "from matplotlib_venn import venn3"
   ]
  },
  {
   "cell_type": "code",
   "execution_count": 13,
   "id": "75d1f694-64a5-4812-ba23-00c48a0b1892",
   "metadata": {},
   "outputs": [],
   "source": [
    "data = [[1,'Mac mini'],[17,'Mac mini'],[1,'Mac studio'],[2,'Mac Pro 13'],[3,'Mac studio'],[18,'Mac mini'],[2,'Mac Pro 13'],[5,'Mac studio'],[7,'Mac studio'],[6,'Mac Pro 13'],[4,'Mac Pro 13'],[8,'Mac mini'],[9,'Mac mini'],[5,'Mac mini'],[6,'Mac mini'],[19,'Mac mini'],[8,'Mac studio'],[2,'Mac mini'],[2,'Mac studio'],[20,'Mac Pro 13']]"
   ]
  },
  {
   "cell_type": "code",
   "execution_count": 14,
   "id": "c9e55c9a-f228-4417-bf2d-4574b8f6da29",
   "metadata": {},
   "outputs": [
    {
     "data": {
      "text/html": [
       "<div>\n",
       "<style scoped>\n",
       "    .dataframe tbody tr th:only-of-type {\n",
       "        vertical-align: middle;\n",
       "    }\n",
       "\n",
       "    .dataframe tbody tr th {\n",
       "        vertical-align: top;\n",
       "    }\n",
       "\n",
       "    .dataframe thead th {\n",
       "        text-align: right;\n",
       "    }\n",
       "</style>\n",
       "<table border=\"1\" class=\"dataframe\">\n",
       "  <thead>\n",
       "    <tr style=\"text-align: right;\">\n",
       "      <th></th>\n",
       "      <th>custId</th>\n",
       "      <th>product</th>\n",
       "    </tr>\n",
       "  </thead>\n",
       "  <tbody>\n",
       "    <tr>\n",
       "      <th>0</th>\n",
       "      <td>1</td>\n",
       "      <td>Mac mini</td>\n",
       "    </tr>\n",
       "    <tr>\n",
       "      <th>1</th>\n",
       "      <td>17</td>\n",
       "      <td>Mac mini</td>\n",
       "    </tr>\n",
       "    <tr>\n",
       "      <th>2</th>\n",
       "      <td>1</td>\n",
       "      <td>Mac studio</td>\n",
       "    </tr>\n",
       "    <tr>\n",
       "      <th>3</th>\n",
       "      <td>2</td>\n",
       "      <td>Mac Pro 13</td>\n",
       "    </tr>\n",
       "    <tr>\n",
       "      <th>4</th>\n",
       "      <td>3</td>\n",
       "      <td>Mac studio</td>\n",
       "    </tr>\n",
       "  </tbody>\n",
       "</table>\n",
       "</div>"
      ],
      "text/plain": [
       "   custId     product\n",
       "0       1    Mac mini\n",
       "1      17    Mac mini\n",
       "2       1  Mac studio\n",
       "3       2  Mac Pro 13\n",
       "4       3  Mac studio"
      ]
     },
     "execution_count": 14,
     "metadata": {},
     "output_type": "execute_result"
    }
   ],
   "source": [
    "df = pd.DataFrame(data, columns=['custId', 'product'])\n",
    "df.head(5)"
   ]
  },
  {
   "cell_type": "code",
   "execution_count": 15,
   "id": "7b5b94c6-cd1d-479c-bacf-1ca7c78a56e1",
   "metadata": {},
   "outputs": [
    {
     "data": {
      "text/plain": [
       "{1, 2, 5, 6, 8, 9, 17, 18, 19}"
      ]
     },
     "execution_count": 15,
     "metadata": {},
     "output_type": "execute_result"
    }
   ],
   "source": [
    "mac_mini = set(df.query('product == \"Mac mini\"')['custId'])\n",
    "mac_mini"
   ]
  },
  {
   "cell_type": "code",
   "execution_count": 16,
   "id": "39ddbfe4-69b4-48e3-8d63-6f64b689fece",
   "metadata": {},
   "outputs": [
    {
     "data": {
      "text/plain": [
       "{1, 2, 3, 5, 7, 8}"
      ]
     },
     "execution_count": 16,
     "metadata": {},
     "output_type": "execute_result"
    }
   ],
   "source": [
    "mac_studio = set(df.query('product == \"Mac studio\"')['custId'])\n",
    "mac_studio"
   ]
  },
  {
   "cell_type": "code",
   "execution_count": 17,
   "id": "a1abd0a2-146d-4e31-bc49-4d8be6d37de7",
   "metadata": {},
   "outputs": [
    {
     "data": {
      "text/plain": [
       "<matplotlib_venn._common.VennDiagram at 0x2a312ded6a0>"
      ]
     },
     "execution_count": 17,
     "metadata": {},
     "output_type": "execute_result"
    },
    {
     "data": {
      "image/png": "[encoded data removed]",
      "text/plain": [
       "<Figure size 640x480 with 1 Axes>"
      ]
     },
     "metadata": {},
     "output_type": "display_data"
    }
   ],
   "source": [
    "venn2([mac_mini,mac_studio],('Mac mini','Mac studio'))"
   ]
  },
  {
   "cell_type": "code",
   "execution_count": 18,
   "id": "a7f70352-5e82-4f0e-a066-42df90d381c9",
   "metadata": {},
   "outputs": [
    {
     "data": {
      "text/plain": [
       "{2, 4, 6, 20}"
      ]
     },
     "execution_count": 18,
     "metadata": {},
     "output_type": "execute_result"
    }
   ],
   "source": [
    "mac_pro_13 = set(df.query('product == \"Mac Pro 13\"')['custId'])\n",
    "mac_pro_13"
   ]
  },
  {
   "cell_type": "code",
   "execution_count": 19,
   "id": "f9502af8-5127-4a3a-8116-e6e696477100",
   "metadata": {},
   "outputs": [
    {
     "data": {
      "text/plain": [
       "<matplotlib_venn._common.VennDiagram at 0x2a311cbbee0>"
      ]
     },
     "execution_count": 19,
     "metadata": {},
     "output_type": "execute_result"
    },
    {
     "data": {
      "image/png": "[encoded data removed]",
      "text/plain": [
       "<Figure size 640x480 with 1 Axes>"
      ]
     },
     "metadata": {},
     "output_type": "display_data"
    }
   ],
   "source": [
    "venn3([mac_mini,mac_studio,mac_pro_13],('Mac mini','Mac studio','Mac Pro 13'))"
   ]
  },
  {
   "cell_type": "code",
   "execution_count": null,
   "id": "57c98f13-7368-477a-888a-2881f7020e11",
   "metadata": {},
   "outputs": [],
   "source": []
  }
 ],
 "metadata": {
  "kernelspec": {
   "display_name": "Python 3 (ipykernel)",
   "language": "python",
   "name": "python3"
  },
  "language_info": {
   "codemirror_mode": {
    "name": "ipython",
    "version": 3
   },
   "file_extension": ".py",
   "mimetype": "text/x-python",
   "name": "python",
   "nbconvert_exporter": "python",
   "pygments_lexer": "ipython3",
   "version": "3.9.13"
  }
 },
 "nbformat": 4,
 "nbformat_minor": 5
}
