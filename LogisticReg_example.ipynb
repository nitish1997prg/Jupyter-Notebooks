{
 "cells": [
  {
   "cell_type": "code",
   "execution_count": 1,
   "id": "df614eaa-4bc1-4b2b-9a55-df7a080782e6",
   "metadata": {},
   "outputs": [],
   "source": [
    "import pandas as pd\n",
    "import numpy as np\n",
    "from sklearn.linear_model import LogisticRegression"
   ]
  },
  {
   "cell_type": "code",
   "execution_count": 3,
   "id": "b07ea1ae-0633-4de7-b978-a480a474336b",
   "metadata": {},
   "outputs": [],
   "source": [
    "df = pd.DataFrame([[2100,0],[2200,0],[2550,1],[2600,1],[2700,1]],columns=['size','sold?'])"
   ]
  },
  {
   "cell_type": "code",
   "execution_count": 4,
   "id": "1917f42d-44a8-4820-a947-ebc5d2e6d4fc",
   "metadata": {},
   "outputs": [
    {
     "data": {
      "text/plain": [
       "<bound method NDFrame.head of    size  sold?\n",
       "0  2100      0\n",
       "1  2200      0\n",
       "2  2550      1\n",
       "3  2600      1\n",
       "4  2700      1>"
      ]
     },
     "execution_count": 4,
     "metadata": {},
     "output_type": "execute_result"
    }
   ],
   "source": [
    "df.head"
   ]
  },
  {
   "cell_type": "code",
   "execution_count": 5,
   "id": "c0318e0f-4a56-47c7-bd41-7fede00c9b0f",
   "metadata": {},
   "outputs": [],
   "source": [
    "clf = LogisticRegression()"
   ]
  },
  {
   "cell_type": "code",
   "execution_count": 6,
   "id": "763205ff-3a7d-4016-9392-5e85b6453c92",
   "metadata": {},
   "outputs": [
    {
     "data": {
      "text/plain": [
       "LogisticRegression()"
      ]
     },
     "execution_count": 6,
     "metadata": {},
     "output_type": "execute_result"
    }
   ],
   "source": [
    "clf.fit(df[['size']],df['sold?'])"
   ]
  },
  {
   "cell_type": "code",
   "execution_count": 7,
   "id": "aa9ac9e0-636f-43ce-b245-3173decbebc4",
   "metadata": {},
   "outputs": [
    {
     "name": "stdout",
     "output_type": "stream",
     "text": [
      "[-120.62872266]\n"
     ]
    }
   ],
   "source": [
    "print(clf.intercept_)"
   ]
  },
  {
   "cell_type": "code",
   "execution_count": 8,
   "id": "219ee55e-eeb5-477f-9687-2d8a30c3ed94",
   "metadata": {},
   "outputs": [
    {
     "name": "stdout",
     "output_type": "stream",
     "text": [
      "[[0.0508058]]\n"
     ]
    }
   ],
   "source": [
    "print(clf.coef_)"
   ]
  },
  {
   "cell_type": "code",
   "execution_count": 9,
   "id": "6fd5d633-d406-4d90-9076-09e8028ba259",
   "metadata": {},
   "outputs": [],
   "source": [
    "X_pred = np.array([[2400]])"
   ]
  },
  {
   "cell_type": "code",
   "execution_count": 10,
   "id": "cc721b83-1eb0-442b-8f61-cc63bae329ea",
   "metadata": {},
   "outputs": [
    {
     "name": "stderr",
     "output_type": "stream",
     "text": [
      "C:\\Users\\Umadevi Hiremath\\anaconda3\\lib\\site-packages\\sklearn\\base.py:450: UserWarning: X does not have valid feature names, but LogisticRegression was fitted with feature names\n",
      "  warnings.warn(\n"
     ]
    }
   ],
   "source": [
    "prob_sold = clf.predict_proba(X_pred)[0][1]"
   ]
  },
  {
   "cell_type": "code",
   "execution_count": 11,
   "id": "90f9a6dc-530d-496b-9487-a703a9f5f7ff",
   "metadata": {},
   "outputs": [
    {
     "name": "stdout",
     "output_type": "stream",
     "text": [
      "Predicted probability: 0.7867097798285566\n"
     ]
    }
   ],
   "source": [
    "print(\"Predicted probability:\",prob_sold)"
   ]
  },
  {
   "cell_type": "code",
   "execution_count": 12,
   "id": "e490f031-9fbc-44cb-b575-6615d9cc2c28",
   "metadata": {},
   "outputs": [
    {
     "name": "stderr",
     "output_type": "stream",
     "text": [
      "C:\\Users\\Umadevi Hiremath\\anaconda3\\lib\\site-packages\\sklearn\\base.py:450: UserWarning: X does not have valid feature names, but LogisticRegression was fitted with feature names\n",
      "  warnings.warn(\n"
     ]
    }
   ],
   "source": [
    "predicted_class = clf.predict(X_pred)[0]"
   ]
  },
  {
   "cell_type": "code",
   "execution_count": 13,
   "id": "3d25f55b-5305-4e73-ab2e-1067990ad37e",
   "metadata": {},
   "outputs": [
    {
     "name": "stdout",
     "output_type": "stream",
     "text": [
      "Predicted class: 1\n"
     ]
    }
   ],
   "source": [
    "print(\"Predicted class:\",predicted_class)"
   ]
  },
  {
   "cell_type": "code",
   "execution_count": null,
   "id": "afc1280c-86ed-426c-9da7-e857f17f9910",
   "metadata": {},
   "outputs": [],
   "source": []
  }
 ],
 "metadata": {
  "kernelspec": {
   "display_name": "Python 3 (ipykernel)",
   "language": "python",
   "name": "python3"
  },
  "language_info": {
   "codemirror_mode": {
    "name": "ipython",
    "version": 3
   },
   "file_extension": ".py",
   "mimetype": "text/x-python",
   "name": "python",
   "nbconvert_exporter": "python",
   "pygments_lexer": "ipython3",
   "version": "3.9.13"
  }
 },
 "nbformat": 4,
 "nbformat_minor": 5
}
