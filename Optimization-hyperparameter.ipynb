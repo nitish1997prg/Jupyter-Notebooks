{
 "cells": [
  {
   "cell_type": "code",
   "execution_count": 6,
   "id": "478804c7-fc15-4b43-baf6-5795b87c5939",
   "metadata": {},
   "outputs": [],
   "source": [
    "from sklearn.model_selection import GridSearchCV\n",
    "from sklearn.datasets import load_iris\n",
    "from sklearn.ensemble import RandomForestClassifier\n",
    "from sklearn.model_selection import cross_val_score\n",
    "import time"
   ]
  },
  {
   "cell_type": "code",
   "execution_count": 7,
   "id": "6cdc1c75-bcd0-4907-b436-381db8f7a709",
   "metadata": {},
   "outputs": [],
   "source": [
    "iris = load_iris()\n",
    "X,y = iris.data,iris.target"
   ]
  },
  {
   "cell_type": "code",
   "execution_count": 8,
   "id": "cf0f6a6c-d7bd-412f-bdef-4f0488623916",
   "metadata": {},
   "outputs": [],
   "source": [
    "search_space = {'n_estimators': [10, 100, 500, 1000],\n",
    "              'max_depth': [2, 10, 25, 50, 100],\n",
    "              'min_samples_split': [2, 5, 10],\n",
    "              'min_samples_leaf': [1, 5, 10]}\n"
   ]
  },
  {
   "cell_type": "code",
   "execution_count": 9,
   "id": "572e3949-440c-4ae7-8fe2-e3dada52068d",
   "metadata": {},
   "outputs": [],
   "source": [
    "clf = RandomForestClassifier(random_state=1234)"
   ]
  },
  {
   "cell_type": "code",
   "execution_count": 10,
   "id": "1e315aea-bd19-4ead-b5f5-67805a2bc190",
   "metadata": {},
   "outputs": [
    {
     "name": "stdout",
     "output_type": "stream",
     "text": [
      "Selected hyperparameters:\n",
      "{'max_depth': 10, 'min_samples_leaf': 1, 'min_samples_split': 2, 'n_estimators': 500}\n",
      "\n",
      "best score:0.9666666666666668\n",
      "elapsed time:259.8\n"
     ]
    }
   ],
   "source": [
    "optimizer = GridSearchCV(clf,search_space,cv=5,scoring='accuracy')\n",
    "start_time = time.time()\n",
    "optimizer.fit(X,y)\n",
    "end_time = time.time()\n",
    "print(f\"Selected hyperparameters:\")\n",
    "print(optimizer.best_params_)\n",
    "print(\"\")\n",
    "print(f\"best score:{optimizer.best_score_}\")\n",
    "print(f\"elapsed time:{round(end_time-start_time,1)}\")"
   ]
  },
  {
   "cell_type": "code",
   "execution_count": 11,
   "id": "8504ecd7-3560-450c-9d97-b42a2105381f",
   "metadata": {},
   "outputs": [
    {
     "name": "stdout",
     "output_type": "stream",
     "text": [
      "Selected hyperparameters:\n",
      "{'n_estimators': 500, 'min_samples_split': 2, 'min_samples_leaf': 1, 'max_depth': 100}\n",
      "\n",
      "best score:0.9666666666666668\n",
      "elapsed time:81.4\n"
     ]
    }
   ],
   "source": [
    "from sklearn.model_selection import RandomizedSearchCV\n",
    "from scipy.stats import randint\n",
    "optimizer = RandomizedSearchCV(clf,param_distributions=search_space,n_iter=50,cv=5,scoring='accuracy',random_state=1234)\n",
    "start_time = time.time()\n",
    "optimizer.fit(X,y)\n",
    "end_time = time.time()\n",
    "print(f\"Selected hyperparameters:\")\n",
    "print(optimizer.best_params_)\n",
    "print(\"\")\n",
    "print(f\"best score:{optimizer.best_score_}\")\n",
    "print(f\"elapsed time:{round(end_time-start_time,1)}\")"
   ]
  },
  {
   "cell_type": "code",
   "execution_count": 13,
   "id": "91493ab4-9f0b-4659-ba80-3acc8a1dd07d",
   "metadata": {},
   "outputs": [
    {
     "name": "stdout",
     "output_type": "stream",
     "text": [
      "Selected hyperparameters:\n",
      "OrderedDict([('max_depth', 25), ('min_samples_leaf', 5), ('min_samples_split', 5), ('n_estimators', 10)])\n",
      "\n",
      "best score:0.96\n",
      "elapsed time:34.3\n"
     ]
    }
   ],
   "source": [
    "from skopt import BayesSearchCV\n",
    "optimizer = BayesSearchCV(estimator=RandomForestClassifier(),search_spaces=search_space,n_iter=10,cv=5,scoring='accuracy',random_state=1234)\n",
    "start_time = time.time()\n",
    "optimizer.fit(X,y)\n",
    "end_time = time.time()\n",
    "print(f\"Selected hyperparameters:\")\n",
    "print(optimizer.best_params_)\n",
    "print(\"\")\n",
    "print(f\"best score:{optimizer.best_score_}\")\n",
    "print(f\"elapsed time:{round(end_time-start_time,1)}\")"
   ]
  },
  {
   "cell_type": "code",
   "execution_count": null,
   "id": "ffdeb5bf-d218-4813-a548-1b80a12d4f31",
   "metadata": {},
   "outputs": [],
   "source": []
  }
 ],
 "metadata": {
  "kernelspec": {
   "display_name": "Python 3 (ipykernel)",
   "language": "python",
   "name": "python3"
  },
  "language_info": {
   "codemirror_mode": {
    "name": "ipython",
    "version": 3
   },
   "file_extension": ".py",
   "mimetype": "text/x-python",
   "name": "python",
   "nbconvert_exporter": "python",
   "pygments_lexer": "ipython3",
   "version": "3.9.13"
  }
 },
 "nbformat": 4,
 "nbformat_minor": 5
}
