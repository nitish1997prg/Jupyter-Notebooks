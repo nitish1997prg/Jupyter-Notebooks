{
 "cells": [
  {
   "cell_type": "code",
   "execution_count": 8,
   "id": "c37902b1-7a44-4c4c-9a38-24d4b6376e15",
   "metadata": {},
   "outputs": [],
   "source": [
    "import numpy as np\n",
    "from sklearn.model_selection import train_test_split\n",
    "from sklearn.linear_model import LinearRegression\n",
    "from sklearn.metrics import mean_absolute_error,mean_squared_error,r2_score"
   ]
  },
  {
   "cell_type": "code",
   "execution_count": 9,
   "id": "42e7ba0c-cea5-45fe-8725-8c360b61b411",
   "metadata": {},
   "outputs": [],
   "source": [
    "np.random.seed(42)\n",
    "X = np.random.rand(100,5)\n",
    "y = 2*X[:,0] + 3*X[:,1] + 5*X[:,2] + np.random.rand(100)\n"
   ]
  },
  {
   "cell_type": "code",
   "execution_count": 10,
   "id": "9444faf4-3a38-4d02-b5af-0c4adc203437",
   "metadata": {},
   "outputs": [],
   "source": [
    "X_train,X_test,y_train,y_test = train_test_split(X,y,test_size=0.2,random_state=42)"
   ]
  },
  {
   "cell_type": "code",
   "execution_count": 11,
   "id": "9baa8d4a-1c55-4f1b-9978-27c6eaf961ff",
   "metadata": {},
   "outputs": [
    {
     "data": {
      "text/plain": [
       "LinearRegression()"
      ]
     },
     "execution_count": 11,
     "metadata": {},
     "output_type": "execute_result"
    }
   ],
   "source": [
    "reg = LinearRegression()\n",
    "reg.fit(X_train,y_train)"
   ]
  },
  {
   "cell_type": "code",
   "execution_count": 12,
   "id": "424c269f-a4d1-4be6-b0fe-dfc84d3efc65",
   "metadata": {},
   "outputs": [],
   "source": [
    "y_pred_train = reg.predict(X_train)"
   ]
  },
  {
   "cell_type": "code",
   "execution_count": 13,
   "id": "f0337699-77dd-444f-96b2-78cace1f3c57",
   "metadata": {},
   "outputs": [],
   "source": [
    "mae_train = round(mean_absolute_error(y_train,y_pred_train),2)\n",
    "mse_train = round(mean_squared_error(y_train,y_pred_train),2)\n",
    "rmse_train = round(np.sqrt(mse_train),2)\n",
    "r2_train = round(r2_score(y_train,y_pred_train),2)"
   ]
  },
  {
   "cell_type": "code",
   "execution_count": 14,
   "id": "240cf537-ee1a-4b7e-b2bf-fa7c118559b1",
   "metadata": {},
   "outputs": [],
   "source": [
    "n = X_train.shape[0]\n",
    "p = X_train.shape[1]\n",
    "adj_r2_train = round(1 - (1-r2_train) * (n-1)/(n-p-1),2)"
   ]
  },
  {
   "cell_type": "code",
   "execution_count": 15,
   "id": "64fef809-8189-4c11-b8ec-c4d8506b40e6",
   "metadata": {},
   "outputs": [
    {
     "name": "stdout",
     "output_type": "stream",
     "text": [
      "Train MAE 0.23\n",
      "Train MSE 0.07\n",
      "Train RMSE 0.26\n",
      "R2 Train 0.98\n",
      "Adjusted R2 train 0.98\n"
     ]
    }
   ],
   "source": [
    "print(\"Train MAE\",mae_train)\n",
    "print(\"Train MSE\",mse_train)\n",
    "print(\"Train RMSE\",rmse_train)\n",
    "print(\"R2 Train\",r2_train)\n",
    "print(\"Adjusted R2 train\",adj_r2_train)"
   ]
  },
  {
   "cell_type": "code",
   "execution_count": null,
   "id": "e51d53e5-7e73-4673-bdbf-34317429886f",
   "metadata": {},
   "outputs": [],
   "source": []
  }
 ],
 "metadata": {
  "kernelspec": {
   "display_name": "Python 3 (ipykernel)",
   "language": "python",
   "name": "python3"
  },
  "language_info": {
   "codemirror_mode": {
    "name": "ipython",
    "version": 3
   },
   "file_extension": ".py",
   "mimetype": "text/x-python",
   "name": "python",
   "nbconvert_exporter": "python",
   "pygments_lexer": "ipython3",
   "version": "3.9.13"
  }
 },
 "nbformat": 4,
 "nbformat_minor": 5
}
