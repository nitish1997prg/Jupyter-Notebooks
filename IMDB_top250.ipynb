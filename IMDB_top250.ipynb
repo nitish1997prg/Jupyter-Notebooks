{
 "cells": [
  {
   "cell_type": "code",
   "execution_count": 1,
   "id": "f74d104d-60b1-4c15-8fa4-99c2052e9302",
   "metadata": {},
   "outputs": [],
   "source": [
    "import pandas as pd\n",
    "import numpy as np\n"
   ]
  },
  {
   "cell_type": "code",
   "execution_count": 3,
   "id": "cc4f1973-64d5-4f54-a175-7d67e6ed0a2c",
   "metadata": {},
   "outputs": [],
   "source": [
    "df = pd.read_csv('IMDB Top 250 Movies.csv')"
   ]
  },
  {
   "cell_type": "code",
   "execution_count": 4,
   "id": "13a907f8-5417-4e14-aed7-72015a516865",
   "metadata": {},
   "outputs": [
    {
     "data": {
      "text/plain": [
       "<bound method NDFrame.head of      rank                      name  year  rating                       genre  \\\n",
       "0       1  The Shawshank Redemption  1994     9.3                       Drama   \n",
       "1       2             The Godfather  1972     9.2                 Crime,Drama   \n",
       "2       3           The Dark Knight  2008     9.0          Action,Crime,Drama   \n",
       "3       4     The Godfather Part II  1974     9.0                 Crime,Drama   \n",
       "4       5              12 Angry Men  1957     9.0                 Crime,Drama   \n",
       "..    ...                       ...   ...     ...                         ...   \n",
       "245   246                  The Help  2011     8.1                       Drama   \n",
       "246   247               Dersu Uzala  1975     8.2   Adventure,Biography,Drama   \n",
       "247   248                   Aladdin  1992     8.0  Animation,Adventure,Comedy   \n",
       "248   249                    Gandhi  1982     8.0     Biography,Drama,History   \n",
       "249   250        Dances with Wolves  1990     8.0     Adventure,Drama,Western   \n",
       "\n",
       "    certificate run_time                                            tagline  \\\n",
       "0             R   2h 22m  Fear can hold you prisoner. Hope can set you f...   \n",
       "1             R   2h 55m                         An offer you can't refuse.   \n",
       "2         PG-13   2h 32m                                    Why So Serious?   \n",
       "3             R   3h 22m       All the power on earth can't change destiny.   \n",
       "4      Approved   1h 36m  Life Is In Their Hands -- Death Is On Their Mi...   \n",
       "..          ...      ...                                                ...   \n",
       "245       PG-13   2h 26m                      Change begins with a whisper.   \n",
       "246           G   2h 22m  There is man and beast at nature's mercy. Ther...   \n",
       "247           G   1h 30m                     Wish granted! (DVD re-release)   \n",
       "248          PG   3h 11m             His Triumph Changed The World Forever.   \n",
       "249       PG-13    3h 1m  Inside everyone is a frontier waiting to be di...   \n",
       "\n",
       "            budget     box_office  \\\n",
       "0         25000000       28884504   \n",
       "1          6000000      250341816   \n",
       "2        185000000     1006234167   \n",
       "3         13000000       47961919   \n",
       "4           350000            955   \n",
       "..             ...            ...   \n",
       "245       25000000      216639112   \n",
       "246        4000000          14480   \n",
       "247  Not Available  Not Available   \n",
       "248       22000000       52767889   \n",
       "249       22000000      424208848   \n",
       "\n",
       "                                                 casts  \\\n",
       "0    Tim Robbins,Morgan Freeman,Bob Gunton,William ...   \n",
       "1    Marlon Brando,Al Pacino,James Caan,Diane Keato...   \n",
       "2    Christian Bale,Heath Ledger,Aaron Eckhart,Mich...   \n",
       "3    Al Pacino,Robert De Niro,Robert Duvall,Diane K...   \n",
       "4    Henry Fonda,Lee J. Cobb,Martin Balsam,John Fie...   \n",
       "..                                                 ...   \n",
       "245  Viola Davis,Emma Stone,Octavia Spencer,Bryce D...   \n",
       "246  Maksim Munzuk,Yuriy Solomin,Mikhail Bychkov,Vl...   \n",
       "247  Scott Weinger,Robin Williams,Linda Larkin,Jona...   \n",
       "248  Ben Kingsley,John Gielgud,Rohini Hattangadi,Ro...   \n",
       "249  Kevin Costner,Mary McDonnell,Graham Greene,Rod...   \n",
       "\n",
       "                    directors                                          writers  \n",
       "0              Frank Darabont                      Stephen King,Frank Darabont  \n",
       "1        Francis Ford Coppola                  Mario Puzo,Francis Ford Coppola  \n",
       "2           Christopher Nolan  Jonathan Nolan,Christopher Nolan,David S. Goyer  \n",
       "3        Francis Ford Coppola                  Francis Ford Coppola,Mario Puzo  \n",
       "4                Sidney Lumet                                    Reginald Rose  \n",
       "..                        ...                                              ...  \n",
       "245               Tate Taylor                     Tate Taylor,Kathryn Stockett  \n",
       "246            Akira Kurosawa    Akira Kurosawa,Yuriy Nagibin,Vladimir Arsenev  \n",
       "247  Ron Clements,John Musker             Ron Clements,John Musker,Ted Elliott  \n",
       "248      Richard Attenborough                                      John Briley  \n",
       "249             Kevin Costner                                    Michael Blake  \n",
       "\n",
       "[250 rows x 13 columns]>"
      ]
     },
     "execution_count": 4,
     "metadata": {},
     "output_type": "execute_result"
    }
   ],
   "source": [
    "df.head"
   ]
  },
  {
   "cell_type": "code",
   "execution_count": 5,
   "id": "dcdac503-87b4-4a14-9998-8ffa94d4f17a",
   "metadata": {},
   "outputs": [
    {
     "data": {
      "text/html": [
       "<div>\n",
       "<style scoped>\n",
       "    .dataframe tbody tr th:only-of-type {\n",
       "        vertical-align: middle;\n",
       "    }\n",
       "\n",
       "    .dataframe tbody tr th {\n",
       "        vertical-align: top;\n",
       "    }\n",
       "\n",
       "    .dataframe thead th {\n",
       "        text-align: right;\n",
       "    }\n",
       "</style>\n",
       "<table border=\"1\" class=\"dataframe\">\n",
       "  <thead>\n",
       "    <tr style=\"text-align: right;\">\n",
       "      <th></th>\n",
       "      <th>rank</th>\n",
       "      <th>name</th>\n",
       "      <th>year</th>\n",
       "      <th>rating</th>\n",
       "      <th>genre</th>\n",
       "      <th>certificate</th>\n",
       "      <th>run_time</th>\n",
       "      <th>tagline</th>\n",
       "      <th>budget</th>\n",
       "      <th>box_office</th>\n",
       "      <th>casts</th>\n",
       "      <th>directors</th>\n",
       "      <th>writers</th>\n",
       "    </tr>\n",
       "  </thead>\n",
       "  <tbody>\n",
       "    <tr>\n",
       "      <th>0</th>\n",
       "      <td>1</td>\n",
       "      <td>The Shawshank Redemption</td>\n",
       "      <td>1994</td>\n",
       "      <td>9.3</td>\n",
       "      <td>Drama</td>\n",
       "      <td>R</td>\n",
       "      <td>2h 22m</td>\n",
       "      <td>Fear can hold you prisoner. Hope can set you f...</td>\n",
       "      <td>25000000</td>\n",
       "      <td>28884504</td>\n",
       "      <td>Tim Robbins,Morgan Freeman,Bob Gunton,William ...</td>\n",
       "      <td>Frank Darabont</td>\n",
       "      <td>Stephen King,Frank Darabont</td>\n",
       "    </tr>\n",
       "    <tr>\n",
       "      <th>1</th>\n",
       "      <td>2</td>\n",
       "      <td>The Godfather</td>\n",
       "      <td>1972</td>\n",
       "      <td>9.2</td>\n",
       "      <td>Crime,Drama</td>\n",
       "      <td>R</td>\n",
       "      <td>2h 55m</td>\n",
       "      <td>An offer you can't refuse.</td>\n",
       "      <td>6000000</td>\n",
       "      <td>250341816</td>\n",
       "      <td>Marlon Brando,Al Pacino,James Caan,Diane Keato...</td>\n",
       "      <td>Francis Ford Coppola</td>\n",
       "      <td>Mario Puzo,Francis Ford Coppola</td>\n",
       "    </tr>\n",
       "  </tbody>\n",
       "</table>\n",
       "</div>"
      ],
      "text/plain": [
       "   rank                      name  year  rating        genre certificate  \\\n",
       "0     1  The Shawshank Redemption  1994     9.3        Drama           R   \n",
       "1     2             The Godfather  1972     9.2  Crime,Drama           R   \n",
       "\n",
       "  run_time                                            tagline    budget  \\\n",
       "0   2h 22m  Fear can hold you prisoner. Hope can set you f...  25000000   \n",
       "1   2h 55m                         An offer you can't refuse.   6000000   \n",
       "\n",
       "  box_office                                              casts  \\\n",
       "0   28884504  Tim Robbins,Morgan Freeman,Bob Gunton,William ...   \n",
       "1  250341816  Marlon Brando,Al Pacino,James Caan,Diane Keato...   \n",
       "\n",
       "              directors                          writers  \n",
       "0        Frank Darabont      Stephen King,Frank Darabont  \n",
       "1  Francis Ford Coppola  Mario Puzo,Francis Ford Coppola  "
      ]
     },
     "execution_count": 5,
     "metadata": {},
     "output_type": "execute_result"
    }
   ],
   "source": [
    "df.head(2)"
   ]
  },
  {
   "cell_type": "code",
   "execution_count": 6,
   "id": "8e59beb1-84c5-4391-b588-68509ff9a72e",
   "metadata": {},
   "outputs": [],
   "source": [
    "year_of_release = df['year']\n"
   ]
  },
  {
   "cell_type": "code",
   "execution_count": 9,
   "id": "626a71cd-bec6-41c1-9783-bc41172eacc5",
   "metadata": {},
   "outputs": [
    {
     "data": {
      "text/plain": [
       "<AxesSubplot:xlabel='year', ylabel='rating'>"
      ]
     },
     "execution_count": 9,
     "metadata": {},
     "output_type": "execute_result"
    },
    {
     "data": {
      "image/png": "[encoded data removed]",
      "text/plain": [
       "<Figure size 640x480 with 1 Axes>"
      ]
     },
     "metadata": {},
     "output_type": "display_data"
    }
   ],
   "source": [
    "import matplotlib.pyplot as plt\n",
    "df.plot.scatter(x='year',y='rating')"
   ]
  },
  {
   "cell_type": "code",
   "execution_count": 10,
   "id": "a7a779a0-0e09-4a19-998b-8eb4071e6aa2",
   "metadata": {},
   "outputs": [],
   "source": [
    "max_year = df['rating'].max()"
   ]
  },
  {
   "cell_type": "code",
   "execution_count": 11,
   "id": "05644310-914b-4504-a082-1fae2921dfbb",
   "metadata": {},
   "outputs": [
    {
     "data": {
      "text/plain": [
       "9.3"
      ]
     },
     "execution_count": 11,
     "metadata": {},
     "output_type": "execute_result"
    }
   ],
   "source": [
    "max_year"
   ]
  },
  {
   "cell_type": "code",
   "execution_count": 13,
   "id": "115fce77-1af0-4529-b558-f78ac439061b",
   "metadata": {},
   "outputs": [],
   "source": [
    "budget_max = df['budget'].max()"
   ]
  },
  {
   "cell_type": "code",
   "execution_count": 14,
   "id": "2fe70ae2-53ed-47d0-a83d-997884e5e288",
   "metadata": {},
   "outputs": [
    {
     "data": {
      "text/plain": [
       "'RF\\xa0115000000'"
      ]
     },
     "execution_count": 14,
     "metadata": {},
     "output_type": "execute_result"
    }
   ],
   "source": [
    "budget_max"
   ]
  },
  {
   "cell_type": "code",
   "execution_count": null,
   "id": "d7697908-9abf-424e-aff0-b8a304e0b6dd",
   "metadata": {},
   "outputs": [],
   "source": []
  }
 ],
 "metadata": {
  "kernelspec": {
   "display_name": "Python 3 (ipykernel)",
   "language": "python",
   "name": "python3"
  },
  "language_info": {
   "codemirror_mode": {
    "name": "ipython",
    "version": 3
   },
   "file_extension": ".py",
   "mimetype": "text/x-python",
   "name": "python",
   "nbconvert_exporter": "python",
   "pygments_lexer": "ipython3",
   "version": "3.9.13"
  }
 },
 "nbformat": 4,
 "nbformat_minor": 5
}
